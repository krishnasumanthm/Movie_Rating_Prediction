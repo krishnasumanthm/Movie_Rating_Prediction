{
 "metadata": {
  "name": "",
  "signature": "sha256:59295de984eba5cbf75df6d6b66be5d14ac97c06adf9736d7d7a7bf2daea1803"
 },
 "nbformat": 3,
 "nbformat_minor": 0,
 "worksheets": [
  {
   "cells": [
    {
     "cell_type": "code",
     "collapsed": false,
     "input": [
      "import twitter\n",
      "import config\n",
      "import pickle\n",
      "import numpy as np\n",
      "from pylib import utils\n",
      "import imdb"
     ],
     "language": "python",
     "metadata": {},
     "outputs": [],
     "prompt_number": 28
    },
    {
     "cell_type": "code",
     "collapsed": false,
     "input": [
      "# load config data from config\n",
      "auth = twitter.oauth.OAuth(config.oauth_token, config.oauth_token_secret,\n",
      "config.consumer_key, config.consumer_secret)\n",
      "\n",
      "#make a twitter api object with the OAuth object\n",
      "api = twitter.Twitter(auth=auth)\n",
      "\n",
      "ia = imdb.IMDb()"
     ],
     "language": "python",
     "metadata": {},
     "outputs": [],
     "prompt_number": 29
    },
    {
     "cell_type": "code",
     "collapsed": false,
     "input": [
      "def common_preprocessing(text):\n",
      "    '''\n",
      "    Includes common preprocessing tasks on text data -lowercasing, term expansion, spelling correction, repeated chars removal\n",
      "    '''\n",
      "    global stop\n",
      "    \n",
      "    # Converting to lowercase\n",
      "    text = text.lower()\n",
      "    \n",
      "    # Term Expansion, eg. won't -> will not, we've -> we have, etc\n",
      "    term_expander = replacers.RegexpReplacer()\n",
      "    text = term_expander.replace(text)\n",
      "    tokens = text.split()\n",
      "    \n",
      "    # Repeated character removal, eg. loooovvveee -> love\n",
      "    repeated_char_remover = replacers.RepeatReplacer()\n",
      "    tokens = [repeated_char_remover.replace(token) for token in tokens]\n",
      "    \n",
      "    # Spelling correction within one edit distance of dictionary word\n",
      "    #spelling_corrector\t= replacers.SpellingReplacer()\n",
      "    #tokens\t= [spelling_corrector.replace(token) for token in tokens]\n",
      "    \n",
      "    # Stopwords Removal\n",
      "    tokens = [i for i in tokens if i.lower() not in stop]\n",
      "    text = ' '.join(tokens)\n",
      "    return text"
     ],
     "language": "python",
     "metadata": {},
     "outputs": [],
     "prompt_number": 30
    },
    {
     "cell_type": "code",
     "collapsed": false,
     "input": [
      "def get_tweets(movie,max_results):\n",
      "    counter = 0\n",
      "    max_id = None\n",
      "    tweets = []\n",
      "    while True:\n",
      "        search_results = api.search.tweets(q=movie.lower(), count=100, result_type=\"recent\", lang=\"en\", max_id=max_id)\n",
      "        print \"100\"\n",
      "        for t in search_results['statuses']:\n",
      "            counter = counter+1\n",
      "            tweets.append(t['text'])\n",
      "\n",
      "        max_id = t['id']-1\n",
      "\n",
      "        if len(search_results['statuses']) < 95:\n",
      "            print \"no more results\"\n",
      "            break\n",
      "\n",
      "        elif counter >= int(max_results):\n",
      "            print \"reached target\"\n",
      "            break\n",
      "    return tweets"
     ],
     "language": "python",
     "metadata": {},
     "outputs": [],
     "prompt_number": 31
    },
    {
     "cell_type": "code",
     "collapsed": false,
     "input": [
      "movie = raw_input(\"Enter movie name: \")\n",
      "number = raw_input(\"Enter how many tweets you want to process(Note :- Large value results in un-necessary noise.Please limit your value to a maximum of 500): \")\n",
      "tweets = get_tweets(movie,number)"
     ],
     "language": "python",
     "metadata": {},
     "outputs": [
      {
       "name": "stdout",
       "output_type": "stream",
       "stream": "stdout",
       "text": [
        "Enter movie name: gone girl\n"
       ]
      },
      {
       "name": "stdout",
       "output_type": "stream",
       "stream": "stdout",
       "text": [
        "Enter how many tweets you want to process(Note :- Large value results in un-necessary noise.Please limit your value to a maximum of 500): 100\n"
       ]
      },
      {
       "output_type": "stream",
       "stream": "stdout",
       "text": [
        "100\n",
        "reached target\n"
       ]
      }
     ],
     "prompt_number": 32
    },
    {
     "cell_type": "code",
     "collapsed": false,
     "input": [
      "X_test = np.array([''.join(el) for el in tweets[0:len(tweets)]])\n",
      "f1= open('classifier.pickle')\n",
      "f2 = open('vectorizer.pickle')\n",
      "classifier = pickle.load(f1)\n",
      "vectorizer = pickle.load(f2)\n",
      "y_pred = classifier.predict(vectorizer.transform(X_test))"
     ],
     "language": "python",
     "metadata": {},
     "outputs": [],
     "prompt_number": 33
    },
    {
     "cell_type": "code",
     "collapsed": false,
     "input": [
      "pos = 0\n",
      "neg = 0\n",
      "for j in range(len(y_pred)):\n",
      "    if y_pred[j] == '1':\n",
      "        pos = pos+1\n",
      "    else:\n",
      "        neg = neg+1\n",
      "print (\"Number of Positive Tweets = %d\"%pos)\n",
      "print (\"Number of Negative Tweets = %d\"%neg)  "
     ],
     "language": "python",
     "metadata": {},
     "outputs": [
      {
       "output_type": "stream",
       "stream": "stdout",
       "text": [
        "Number of Positive Tweets = 88\n",
        "Number of Negative Tweets = 12\n"
       ]
      }
     ],
     "prompt_number": 34
    },
    {
     "cell_type": "code",
     "collapsed": false,
     "input": [
      "y_pred = [float(i) for i in y_pred]\n",
      "print 5*((sum(y_pred)/len(y_pred))+1)"
     ],
     "language": "python",
     "metadata": {},
     "outputs": [
      {
       "output_type": "stream",
       "stream": "stdout",
       "text": [
        "8.8\n"
       ]
      }
     ],
     "prompt_number": 35
    },
    {
     "cell_type": "code",
     "collapsed": false,
     "input": [
      "s_result = ia.search_movie(movie)\n",
      "var = s_result[0]\n",
      "ia.update(var)\n",
      "print (\"IMDb Rating = %s\"%var['rating'])"
     ],
     "language": "python",
     "metadata": {},
     "outputs": [
      {
       "output_type": "stream",
       "stream": "stdout",
       "text": [
        "IMDb Rating = 8.5\n"
       ]
      }
     ],
     "prompt_number": 36
    },
    {
     "cell_type": "code",
     "collapsed": false,
     "input": [],
     "language": "python",
     "metadata": {},
     "outputs": []
    }
   ],
   "metadata": {}
  }
 ]
}