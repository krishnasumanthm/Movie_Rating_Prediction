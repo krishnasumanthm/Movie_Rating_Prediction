{
 "metadata": {
  "name": "",
  "signature": "sha256:80c3aa6834903de3ff68626b3b70b4db623414a0086d07c1c698d48fa15282e7"
 },
 "nbformat": 3,
 "nbformat_minor": 0,
 "worksheets": [
  {
   "cells": [
    {
     "cell_type": "code",
     "collapsed": false,
     "input": [
      "import twitter\n",
      "import config\n",
      "import pickle\n",
      "import numpy as np\n",
      "from pylib import utils\n",
      "import imdb"
     ],
     "language": "python",
     "metadata": {},
     "outputs": [],
     "prompt_number": 1
    },
    {
     "cell_type": "code",
     "collapsed": false,
     "input": [
      "# load config data from config\n",
      "#auth = tweepy.OAuthHandler(config.consumer_key, config.consumer_secret)\n",
      "#auth.set_access_token(config.oauth_token, config.oauth_token_secret)\n",
      "#api = tweepy.API(auth)\n",
      "# load config data from config\n",
      "auth = twitter.oauth.OAuth(config.oauth_token, config.oauth_token_secret,\n",
      "config.consumer_key, config.consumer_secret)\n",
      "\n",
      "#make a twitter api object with the OAuth object\n",
      "api = twitter.Twitter(auth=auth)\n",
      "\n",
      "ia = imdb.IMDb()"
     ],
     "language": "python",
     "metadata": {},
     "outputs": [],
     "prompt_number": 2
    },
    {
     "cell_type": "code",
     "collapsed": false,
     "input": [
      "def common_preprocessing(text):\n",
      "    '''\n",
      "    Includes common preprocessing tasks on text data -lowercasing, term expansion, spelling correction, repeated chars removal\n",
      "    '''\n",
      "    global stop\n",
      "    \n",
      "    # Converting to lowercase\n",
      "    text = text.lower()\n",
      "    \n",
      "    # Term Expansion, eg. won't -> will not, we've -> we have, etc\n",
      "    term_expander = replacers.RegexpReplacer()\n",
      "    text = term_expander.replace(text)\n",
      "    tokens = text.split()\n",
      "    \n",
      "    # Repeated character removal, eg. loooovvveee -> love\n",
      "    repeated_char_remover = replacers.RepeatReplacer()\n",
      "    tokens = [repeated_char_remover.replace(token) for token in tokens]\n",
      "    \n",
      "    # Spelling correction within one edit distance of dictionary word\n",
      "    #spelling_corrector\t= replacers.SpellingReplacer()\n",
      "    #tokens\t= [spelling_corrector.replace(token) for token in tokens]\n",
      "    \n",
      "    # Stopwords Removal\n",
      "    tokens = [i for i in tokens if i.lower() not in stop]\n",
      "    text = ' '.join(tokens)\n",
      "    return text"
     ],
     "language": "python",
     "metadata": {},
     "outputs": [],
     "prompt_number": 3
    },
    {
     "cell_type": "code",
     "collapsed": false,
     "input": [
      "def get_tweets(movie,max_results):\n",
      "    counter = 0\n",
      "    max_id = None\n",
      "    tweets = []\n",
      "    while True:\n",
      "        search_results = api.search.tweets(q=movie.lower(), count=100, result_type=\"recent\", lang=\"en\", max_id=max_id)\n",
      "        print \"100\"\n",
      "        for t in search_results['statuses']:\n",
      "            counter = counter+1\n",
      "            tweets.append(t['text'])\n",
      "\n",
      "        max_id = t['id']-1\n",
      "\n",
      "        if len(search_results['statuses']) < 95:\n",
      "            print \"no more results\"\n",
      "            break\n",
      "\n",
      "        elif counter >= int(max_results):\n",
      "            print \"reached target\"\n",
      "            break\n",
      "    return tweets"
     ],
     "language": "python",
     "metadata": {},
     "outputs": [],
     "prompt_number": 11
    },
    {
     "cell_type": "code",
     "collapsed": false,
     "input": [
      "movie = raw_input(\"Enter movie name: \")\n",
      "number = raw_input(\"Enter how many tweets you want to process(Note :- Large value results in un-necessary noise.Please limit your value to a maximum of 500): \")\n",
      "tweets = get_tweets(movie,number)"
     ],
     "language": "python",
     "metadata": {},
     "outputs": [
      {
       "name": "stdout",
       "output_type": "stream",
       "stream": "stdout",
       "text": [
        "Enter movie name: gone girl\n"
       ]
      },
      {
       "name": "stdout",
       "output_type": "stream",
       "stream": "stdout",
       "text": [
        "Enter how many tweets you want to process(Note :- Large value results in un-necessary noise.Please limit your value to a maximum of 500): 100\n"
       ]
      },
      {
       "output_type": "stream",
       "stream": "stdout",
       "text": [
        "100\n",
        "reached target\n"
       ]
      }
     ],
     "prompt_number": 12
    },
    {
     "cell_type": "code",
     "collapsed": false,
     "input": [
      "X_test = np.array([''.join(el) for el in tweets[0:len(tweets)]])\n",
      "f1= open('classifier.pickle')\n",
      "f2 = open('vectorizer.pickle')\n",
      "classifier = pickle.load(f1)\n",
      "vectorizer = pickle.load(f2)\n",
      "y_pred = classifier.predict(vectorizer.transform(X_test))"
     ],
     "language": "python",
     "metadata": {},
     "outputs": [],
     "prompt_number": 13
    },
    {
     "cell_type": "code",
     "collapsed": false,
     "input": [
      "print y_pred"
     ],
     "language": "python",
     "metadata": {},
     "outputs": [
      {
       "output_type": "stream",
       "stream": "stdout",
       "text": [
        "['1' '1' '1' '1' '1' '-1' '1' '1' '1' '1' '1' '1' '1' '1' '1' '1' '-1' '-1'\n",
        " '1' '-1' '1' '1' '1' '1' '1' '1' '1' '1' '1' '1' '-1' '1' '1' '-1' '1'\n",
        " '-1' '1' '1' '1' '1' '1' '1' '1' '1' '1' '1' '1' '1' '1' '-1' '1' '-1' '1'\n",
        " '-1' '1' '1' '-1' '1' '1' '1' '1' '1' '1' '1' '1' '-1' '1' '1' '1' '1' '1'\n",
        " '1' '1' '1' '1' '1' '1' '-1' '-1' '1' '-1' '1' '1' '1' '1' '-1' '1' '1'\n",
        " '1' '1' '1' '1' '1' '1' '1' '1' '1' '1' '-1' '1']\n"
       ]
      }
     ],
     "prompt_number": 14
    },
    {
     "cell_type": "code",
     "collapsed": false,
     "input": [
      "print len(y_pred)\n",
      "y_pred = [float(i) for i in y_pred]\n",
      "print 5*((sum(y_pred)/len(y_pred))+1)"
     ],
     "language": "python",
     "metadata": {},
     "outputs": [
      {
       "output_type": "stream",
       "stream": "stdout",
       "text": [
        "100\n",
        "8.3\n"
       ]
      }
     ],
     "prompt_number": 15
    },
    {
     "cell_type": "code",
     "collapsed": false,
     "input": [
      "s_result = ia.search_movie(movie)\n",
      "var = s_result[0]\n",
      "ia.update(var)\n",
      "print var['rating']"
     ],
     "language": "python",
     "metadata": {},
     "outputs": [
      {
       "output_type": "stream",
       "stream": "stdout",
       "text": [
        "8.5\n"
       ]
      }
     ],
     "prompt_number": 16
    },
    {
     "cell_type": "code",
     "collapsed": false,
     "input": [
      "print tweets"
     ],
     "language": "python",
     "metadata": {},
     "outputs": [
      {
       "output_type": "stream",
       "stream": "stdout",
       "text": [
        "[u'Girl we grown if he aint gone treat you right then i aint gone treat you wrong', u'gone girl was a good movie tripped me out', u'RT @KingCurtisJayy: No one gone be there for you like yo girl is \\U0001f46b\\U0001f510\\U0001f4af http://t.co/LlUhKdXAXK', u\"The movie Gone Girl makes me never wanna get married. I'm traumatized #WomenBeTriflin\", u'RT @KingCurtisJayy: No one gone be there for you like yo girl is \\U0001f46b\\U0001f510\\U0001f4af http://t.co/LlUhKdXAXK', u\"Sounds silly but I'm so sure the cat in Gone Girl is significant for a reason that I don't yet know\", u'RT @Quazi_Andretti: When the girl you thought was gone be bae turned out to be catfish #ImperialFinesse http://t.co/V0ZsKS02eY', u'RT @KingSnoBunny: Me: Hey \\u263a\\ufe0f\\n\\nGirl: *read 2:27 PM*\\n\\nMe: So u just gone ignore me?\\n\\nMe: u ugly anyways\\n\\nHer: http://t.co/cV2std5466', u'@_CERR crosses fingers for Thanksgiving ! !  Seem like you been gone forever girl \\U0001f629\\U0001f629', u'At work we betting to see who gone snap on new girl 1st she be drawing heavily', u'Good Girl Gone Bad is probably my favorite Rihanna album', u'Flyer than yo girl baby gone and take my picture \\U0001f4af', u\"RT @XavierCampa: a girl that's really feeling you is gone always think you got hoes because in her mind everything she sees in you other gi\\u2026\", u'A1 I have already seen so many movies, daughter yells out Gone Girl!! #RedboxCanada', u\"@theangel8110 I saw this girl I use to go to class with staring at me but I didn't remember her until she was long gone -- I always do that\", u'RT @KingCurtisJayy: No one gone be there for you like yo girl is \\U0001f46b\\U0001f510\\U0001f4af http://t.co/LlUhKdXAXK', u'This bitch on gone girl has me weak', u\"@sarahhustead I wish I could have gone with you girl!!!!!! I'm sorry!!!\", u'If I lose a girl jus kno my next one gone be badder.', u\"RT @capreswillow: \\u201c@MrKellyRush: @mxkvy they say you can turn a bad girl good, but when a good girl goes bad, she's gone forever \\U0001f614\\u201dLOL\", u\"need to see Gone Girl, Interstellar, and Birdman.  Anything else I'm missing out on right now?\", u'RT @KingCurtisJayy: No one gone be there for you like yo girl is \\U0001f46b\\U0001f510\\U0001f4af http://t.co/LlUhKdXAXK', u'RT @KingCurtisJayy: No one gone be there for you like yo girl is \\U0001f46b\\U0001f510\\U0001f4af http://t.co/LlUhKdXAXK', u'RT @KingSnoBunny: Me: Hey \\u263a\\ufe0f\\n\\nGirl: *read 2:27 PM*\\n\\nMe: So u just gone ignore me?\\n\\nMe: u ugly anyways\\n\\nHer: http://t.co/cV2std5466', u'RT @KingSnoBunny: Me: Hey \\u263a\\ufe0f\\n\\nGirl: *read 2:27 PM*\\n\\nMe: So u just gone ignore me?\\n\\nMe: u ugly anyways\\n\\nHer: http://t.co/cV2std5466', u'RT @KingCurtisJayy: No one gone be there for you like yo girl is \\U0001f46b\\U0001f510\\U0001f4af http://t.co/LlUhKdXAXK', u'RT @KingCurtisJayy: No one gone be there for you like yo girl is \\U0001f46b\\U0001f510\\U0001f4af http://t.co/LlUhKdXAXK', u'@GlitchComputer You declined my offer to go see Gone Girl so now the moment is gone lol', u\"RT @TheODDWeirdo__: @BossLady_xD gone head girl I ain't know you was an English teacher \\U0001f62d\\U0001f62d\", u\"@Lessalacey don't worry girl you gone get that . Mark my words \\U0001f609\\U0001f495\", u'RT @Bdotsmith90: They say u cnt turn a bad girl good bt once a good girl gone bad she gone foreva I mourn 4eva gtta live with the fct I did\\u2026', u'Im gone be with my girl family for thanksgiving \\U0001f374\\U0001f356\\U0001f60b', u\"@Listen2Lena A1: I Love gone girl can't wait till its available at Redbox :) #RedboxCanada\", u\"Now her attitude is nasty plus she can't control the habit. Good mama, good daddy. Good girl gone bad \\U0001f608\\U0001f60a\\U0001f648\\U0001f481\", u'When the girl you thought was gone be bae turned out to be catfish #ImperialFinesse http://t.co/V0ZsKS02eY', u\"\\u201c@MrKellyRush: @mxkvy they say you can turn a bad girl good, but when a good girl goes bad, she's gone forever \\U0001f614\\u201dLOL\", u'RT @DreamCreep: \"Picture Me Gone\" needs to be in the film \"Gone Girl\" @arielxpink', u'gone girl though. so disturbingly good', u'i need to see the first hour of gone girl and nightcrawler', u'RT @KingSnoBunny: Me: Hey \\u263a\\ufe0f\\n\\nGirl: *read 2:27 PM*\\n\\nMe: So u just gone ignore me?\\n\\nMe: u ugly anyways\\n\\nHer: http://t.co/cV2std5466', u'Damon is gone no time and his brother hands his best friend over to hunters, and his other best friend and girl collaborate to erase him.', u'Gone Girl has to be THE scariest movie ever!!!', u\"I'm at AMC Clifton Commons 16 - @amctheatres for Gone Girl in Clifton, NJ https://t.co/Lcx0TviCBS\", u'Girl get on that pole gone n play yo role\\U0001f602', u'Someone go see Gone Girl with me \\U0001f629', u'RT @KingSnoBunny: Me: Hey \\u263a\\ufe0f\\n\\nGirl: *read 2:27 PM*\\n\\nMe: So u just gone ignore me?\\n\\nMe: u ugly anyways\\n\\nHer: http://t.co/cV2std5466', u'Going to Gone Girl \\U0001f601', u'Rest easy beautiful girl, gone but certainly never forgotten \\U0001f497 http://t.co/rrXjziuKeC', u'RT @KingSnoBunny: Me: Hey \\u263a\\ufe0f\\n\\nGirl: *read 2:27 PM*\\n\\nMe: So u just gone ignore me?\\n\\nMe: u ugly anyways\\n\\nHer: http://t.co/cV2std5466', u\"I'm at UA Lake Charles Stadium 10 - @regalmovies for Gone Girl in Lake Charles, LA https://t.co/Q8J0dsH7YO\", u\"@BossLady_xD gone head girl I ain't know you was an English teacher \\U0001f62d\\U0001f62d\", u'@MalikaDawn @TwoBlocksx girl when christmas come, you gone be in the group text', u'\\U0001f3b6Sometimes to win a war Man u gotta Lose the battle. But if I lose A Girl Jus know my next on gone be Betta\\U0001f3b6', u'Gone Girl was aiiightttt. Dunno what all the hype was about tho. Plus, Ben Affleck is an awful actor', u\"\\u201c@JezzyReyes_2: Finally going  to see gone girl tonight \\U0001f62c\\U0001f44f\\u201d Dope Movie you're gonna love it! \\U0001f44c\", u'Gone Girl is ready at the library for me!  Hunkering down with a good book...', u'RT @danaaagee: Yo this girl fell asleep at the park, her dude left her, she woke up 10min later realized he was gone then dipped out.', u'RT @DiffuserFM: .@Trent_Reznor and Atticus Ross share insight into scoring movies with David Fincher: http://t.co/BU7AE6M1nG', u'\\u201c@nelson__sarah: any1 wanna accompany Marley &amp; I at gone girl tn\\u201d @o_r_t_e_g_a', u'RT @_luisperez6: \\u201c@jaydensmomma3: How you gone talk to your \"homies\" ex girl ? \\u2615\\ufe0f\\U0001f438\\u201d ha fr .', u'Jennifer Lopez tells how Gone Girl star Ben Affleck crushed her soul and... http://t.co/jZ77p139oN on @bloglovin', u'RT @KingSnoBunny: Me: Hey \\u263a\\ufe0f\\n\\nGirl: *read 2:27 PM*\\n\\nMe: So u just gone ignore me?\\n\\nMe: u ugly anyways\\n\\nHer: http://t.co/cV2std5466', u'RT @KingSnoBunny: Me: Hey \\u263a\\ufe0f\\n\\nGirl: *read 2:27 PM*\\n\\nMe: So u just gone ignore me?\\n\\nMe: u ugly anyways\\n\\nHer: http://t.co/cV2std5466', u'RT @KingSnoBunny: Me: Hey \\u263a\\ufe0f\\n\\nGirl: *read 2:27 PM*\\n\\nMe: So u just gone ignore me?\\n\\nMe: u ugly anyways\\n\\nHer: http://t.co/cV2std5466', u\"Girl I'm gone turn up without  you, ball without you, I'm gone do everything 10x bigger without you \\u270c\", u'good girl gone bad .', u'@xLiLiannx I finished Gone Girl... Liked the suspense but the ending just kind of ended idk you can reed it on my nook account online', u'RT @KingSnoBunny: Me: Hey \\u263a\\ufe0f\\n\\nGirl: *read 2:27 PM*\\n\\nMe: So u just gone ignore me?\\n\\nMe: u ugly anyways\\n\\nHer: http://t.co/cV2std5466', u'RT @KingSnoBunny: Me: Hey \\u263a\\ufe0f\\n\\nGirl: *read 2:27 PM*\\n\\nMe: So u just gone ignore me?\\n\\nMe: u ugly anyways\\n\\nHer: http://t.co/cV2std5466', u'tf you thought you was gone accomplish when this mane happy w| his girl \\U0001f603', u'RT @KingSnoBunny: Me: Hey \\u263a\\ufe0f\\n\\nGirl: *read 2:27 PM*\\n\\nMe: So u just gone ignore me?\\n\\nMe: u ugly anyways\\n\\nHer: http://t.co/cV2std5466', u'@ChamaBitches I know this girl who gone get her neck broke \\U0001f602\\U0001f602\\U0001f602', u'RT @KingSnoBunny: Me: Hey \\u263a\\ufe0f\\n\\nGirl: *read 2:27 PM*\\n\\nMe: So u just gone ignore me?\\n\\nMe: u ugly anyways\\n\\nHer: http://t.co/cV2std5466', u\"RT @Grantland33: Til Death Do Us Part (With Our Money): How 'Gone Girl' Has Kept On Rolling at the Box Office, by @jedgarlopez http://t.co/\\u2026\", u'Damn, good girl gone bad.', u\"Bout to finish watching gone girl since now I'm too pissed to fall back asleep\", u'Hubby reluctantly agreed to read Gone Girl. 60 pages in, he texts me, \"Amazing Amy is one crazy beeyotch.\" #beafraid', u'RT @__Daneka__: @ShaeShaeKoolae ohh okayyy, you gone be cute girl \\U0001f60d you look pretty with any style', u'RT @WeLoveGirlCode: I think we all hated this girl when we were 12 http://t.co/ZmFk5ca0tJ', u'Check out Gone Girl @moviefone\\nhttp://t.co/8fFoRCW3eE', u'@ShaeShaeKoolae ohh okayyy, you gone be cute girl \\U0001f60d you look pretty with any style', u'A nigga only gone act right with the girl ge wants to be with ..', u\"@PrincessArieee_ Girl they gone make my sandwich and drop it off on the way home. Don't get Jimmy Johns fucked up! Lbs\", u'RT @_Kelzzzz: Yall Niggas Keep Messing Up Your Girl Gone Get Snatched', u'\\u201c@KingSnoBunny: Me: Hey \\u263a\\ufe0f\\n\\nGirl: *read 2:27 PM*\\n\\nMe: So u just gone ignore me?\\n\\nMe: u ugly anyways\\n\\nHer: http://t.co/uOgHpZI8nR\\u201d LHHHHHHH', u\"If I smoke this blunt girl I'm gone forget you\", u\"\\u201c@caramelnoonie: @SeduceMyAsh don't kill him girl I need him to graduate with his masters   @SuckAhTweet\\u201d she ain't gone pop shit\", u'@shanbandz girl. You gone make me propose \\U0001f48d', u'RT @KingSnoBunny: Me: Hey \\u263a\\ufe0f\\n\\nGirl: *read 2:27 PM*\\n\\nMe: So u just gone ignore me?\\n\\nMe: u ugly anyways\\n\\nHer: http://t.co/cV2std5466', u'Yall Niggas Keep Messing Up Your Girl Gone Get Snatched', u'\"@fIirting: tbh every girl has went through this http://t.co/CmSicuUBXH\" *gone', u'RT @KingSnoBunny: Me: Hey \\u263a\\ufe0f\\n\\nGirl: *read 2:27 PM*\\n\\nMe: So u just gone ignore me?\\n\\nMe: u ugly anyways\\n\\nHer: http://t.co/cV2std5466', u'RT @KingSnoBunny: Me: Hey \\u263a\\ufe0f\\n\\nGirl: *read 2:27 PM*\\n\\nMe: So u just gone ignore me?\\n\\nMe: u ugly anyways\\n\\nHer: http://t.co/cV2std5466', u'21 Things You Should Expect Before You Move In With A Girl http://t.co/mubxz8Rmxq', u'@LukeSawyer_DK @HannahSawyer_DK Been gone from twitter for a bit. Realized I missed something huge. Congrats on your precious baby girl!! \\U0001f389', u\"Gone girl is one of the best films I've seen... but the ending could have been better.\", u'RT @KingSnoBunny: Me: Hey \\u263a\\ufe0f\\n\\nGirl: *read 2:27 PM*\\n\\nMe: So u just gone ignore me?\\n\\nMe: u ugly anyways\\n\\nHer: http://t.co/cV2std5466', u'RT @LOHANTHONY: just finished the movie gone girl. fuck. my sister and i are currently walking to olive garden to eat away the stress that \\u2026', u'RT @goodreads: \"Gone Girl\" author Gillian Flynn is answering questions on Goodreads right now! http://t.co/0HApPk9HqD #AskTheAuthor', u'RT @KingSnoBunny: Me: Hey \\u263a\\ufe0f\\n\\nGirl: *read 2:27 PM*\\n\\nMe: So u just gone ignore me?\\n\\nMe: u ugly anyways\\n\\nHer: http://t.co/cV2std5466']\n"
       ]
      }
     ],
     "prompt_number": 17
    },
    {
     "cell_type": "code",
     "collapsed": false,
     "input": [],
     "language": "python",
     "metadata": {},
     "outputs": []
    }
   ],
   "metadata": {}
  }
 ]
}